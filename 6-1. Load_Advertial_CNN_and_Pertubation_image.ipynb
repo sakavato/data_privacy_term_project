{
 "cells": [
  {
   "cell_type": "code",
   "execution_count": 1,
   "id": "1e89ca1d",
   "metadata": {},
   "outputs": [
    {
     "name": "stdout",
     "output_type": "stream",
     "text": [
      "총 파일 개수: 69997\n",
      "69997\n"
     ]
    }
   ],
   "source": [
    "import os\n",
    "\n",
    "def list_in_mnist_btm_hash(base_dir):\n",
    "    sub_dirs = ['testing', 'training']\n",
    "    file_list = []\n",
    "\n",
    "    for sub_dir in sub_dirs:\n",
    "        path = os.path.join(base_dir, sub_dir)\n",
    "        for i in range(10):\n",
    "            folder_path = os.path.join(path, str(i))\n",
    "            if os.path.exists(folder_path):\n",
    "                file_list.extend(os.listdir(folder_path))\n",
    "\n",
    "    print(f\"총 파일 개수: {len(file_list)}\")\n",
    "    return file_list\n",
    "\n",
    "base_dir = 'mnist_btm_hash' \n",
    "file_list = list_in_mnist_btm_hash(base_dir)\n",
    "print(len(file_list))"
   ]
  },
  {
   "cell_type": "code",
   "execution_count": 2,
   "id": "6ffbdc53",
   "metadata": {},
   "outputs": [],
   "source": [
    "import torch\n",
    "import torchvision.transforms as transforms\n",
    "from torchvision.datasets import ImageFolder\n",
    "from torch.utils.data import DataLoader\n",
    "import numpy as np\n",
    "import os\n",
    "from PIL import Image\n",
    "import torch.nn as nn\n",
    "import torch.nn.functional as F\n",
    "\n",
    "class AdvancedCNN(nn.Module):\n",
    "    def __init__(self):\n",
    "        super(AdvancedCNN, self).__init__()\n",
    "        self.conv1 = nn.Conv2d(1, 10, kernel_size=5, padding=2)  \n",
    "        self.bn1 = nn.BatchNorm2d(10)\n",
    "        self.conv2 = nn.Conv2d(10, 20, kernel_size=5, padding=2)  \n",
    "        self.bn2 = nn.BatchNorm2d(20)\n",
    "        self.pool = nn.AvgPool2d(2)\n",
    "        self.fc1 = nn.Linear(980, 50)  # 입력 크기를 조정\n",
    "        self.fc2 = nn.Linear(50, 10)\n",
    "\n",
    "    def forward(self, x):\n",
    "        x = F.relu(self.bn1(self.conv1(x)))\n",
    "        x = self.pool(x)\n",
    "        x = F.relu(self.bn2(self.conv2(x)))\n",
    "        x = self.pool(x)\n",
    "        x = x.view(x.size(0), -1)  # Flatten\n",
    "        x = F.relu(self.fc1(x))\n",
    "        x = self.fc2(x)\n",
    "        return x\n",
    "\n"
   ]
  },
  {
   "cell_type": "code",
   "execution_count": 3,
   "id": "53326ec0",
   "metadata": {},
   "outputs": [
    {
     "data": {
      "text/plain": [
       "AdvancedCNN(\n",
       "  (conv1): Conv2d(1, 10, kernel_size=(5, 5), stride=(1, 1), padding=(2, 2))\n",
       "  (bn1): BatchNorm2d(10, eps=1e-05, momentum=0.1, affine=True, track_running_stats=True)\n",
       "  (conv2): Conv2d(10, 20, kernel_size=(5, 5), stride=(1, 1), padding=(2, 2))\n",
       "  (bn2): BatchNorm2d(20, eps=1e-05, momentum=0.1, affine=True, track_running_stats=True)\n",
       "  (pool): AvgPool2d(kernel_size=2, stride=2, padding=0)\n",
       "  (fc1): Linear(in_features=980, out_features=50, bias=True)\n",
       "  (fc2): Linear(in_features=50, out_features=10, bias=True)\n",
       ")"
      ]
     },
     "execution_count": 3,
     "metadata": {},
     "output_type": "execute_result"
    }
   ],
   "source": [
    "#model load\n",
    "model = AdvancedCNN()\n",
    "model.load_state_dict(torch.load('C:/Users/koo/my_workspace/privacy_term_project/advanced_mnist_cnn_by_ADT.pth'))\n",
    "model.eval()\n",
    "model.cuda()"
   ]
  },
  {
   "cell_type": "code",
   "execution_count": 4,
   "id": "2abf418d",
   "metadata": {},
   "outputs": [],
   "source": [
    "# 노이즈 마스크 생성 함수\n",
    "def add_noise_to_image(image, num_pixels, intensity=0.5):\n",
    "    image = image.clone()\n",
    "    for _ in range(num_pixels):\n",
    "        x, y = np.random.randint(0, image.size(1)), np.random.randint(0, image.size(2))\n",
    "        noise = torch.randn(image.size(0)) * intensity\n",
    "        image[:, x, y] += noise\n",
    "    return torch.clamp(image, 0, 1)"
   ]
  },
  {
   "cell_type": "code",
   "execution_count": null,
   "id": "2ae393f7",
   "metadata": {},
   "outputs": [],
   "source": []
  },
  {
   "cell_type": "code",
   "execution_count": 5,
   "id": "8d507d8e",
   "metadata": {},
   "outputs": [],
   "source": [
    "# 데이터 로딩 및 폴더 생성\n",
    "test_dir = 'C:/Users/koo/my_workspace/privacy_term_project/mnist_btm/testing'\n",
    "output_dir = 'C:/Users/koo/my_workspace/privacy_term_project/random_pertubation_image_using_ADT_model'\n",
    "\n",
    "transform = transforms.Compose([\n",
    "    transforms.Grayscale(num_output_channels=1),\n",
    "    transforms.ToTensor(),\n",
    "    transforms.Normalize((0.5,), (0.5,))\n",
    "])\n",
    "test_dataset = ImageFolder(root=test_dir, transform=transform)\n",
    "test_loader = DataLoader(test_dataset, batch_size=1, shuffle=True)"
   ]
  },
  {
   "cell_type": "code",
   "execution_count": 6,
   "id": "acbb6db6",
   "metadata": {},
   "outputs": [],
   "source": [
    "if not os.path.exists(output_dir):\n",
    "    os.makedirs(output_dir)\n",
    "    for i in range(10):\n",
    "        os.makedirs(os.path.join(output_dir, str(i)))"
   ]
  },
  {
   "cell_type": "code",
   "execution_count": 7,
   "id": "fe1fccb3",
   "metadata": {},
   "outputs": [],
   "source": [
    "# 이미지 생성 및 모델 테스트\n",
    "success_counts = {str(i): 0 for i in range(10)}\n",
    "total_counts = {str(i): 0 for i in range(10)}"
   ]
  },
  {
   "cell_type": "code",
   "execution_count": 8,
   "id": "61aaf908",
   "metadata": {},
   "outputs": [],
   "source": [
    "\n",
    "# 노이즈 추가 및 모델 예측 부분\n",
    "for label in range(10):\n",
    "    label_dir = f'{output_dir}/{label}'\n",
    "    if not os.path.exists(label_dir):\n",
    "        os.makedirs(label_dir)\n",
    "        \n",
    "    for i, (data, target) in enumerate(test_loader):\n",
    "        if target.item() != label or total_counts[str(label)] >= 1000:\n",
    "            continue\n",
    "\n",
    "        noisy_image = add_noise_to_image(data[0], num_pixels=5, intensity=0.5)\n",
    "        noisy_image = noisy_image.unsqueeze(0).cuda()\n",
    "        prediction = model(noisy_image)\n",
    "        predicted_label = torch.max(prediction, 1)[1].item()\n",
    "\n",
    "        if predicted_label != target.item():\n",
    "            success_counts[str(label)] += 1\n",
    "            noisy_img = transforms.ToPILImage()(noisy_image.squeeze(0).cpu())  # 배치 차원 제거 및 CPU로 이동\n",
    "            noisy_img.save(f'{output_dir}/{label}/{label}_noisy_{total_counts[str(label)]}.bmp')\n",
    "\n",
    "        total_counts[str(label)] += 1\n"
   ]
  },
  {
   "cell_type": "code",
   "execution_count": 9,
   "id": "c501b59d",
   "metadata": {},
   "outputs": [
    {
     "name": "stdout",
     "output_type": "stream",
     "text": [
      "Label 0: Success Rate = 98.0%\n",
      "Label 1: Success Rate = 100.0%\n",
      "Label 2: Success Rate = 100.0%\n",
      "Label 3: Success Rate = 100.0%\n",
      "Label 4: Success Rate = 98.2%\n",
      "Label 5: Success Rate = 89.2%\n",
      "Label 6: Success Rate = 95.8%\n",
      "Label 7: Success Rate = 100.0%\n",
      "Label 8: Success Rate = 97.39999999999999%\n",
      "Label 9: Success Rate = 0.0%\n"
     ]
    }
   ],
   "source": [
    "\n",
    "# 성공률 출력\n",
    "for label in range(10):\n",
    "    success_rate = success_counts[str(label)] / 1000 * 100\n",
    "    print(f'Label {label}: Success Rate = {success_rate}%')\n",
    "    \n"
   ]
  },
  {
   "cell_type": "code",
   "execution_count": 11,
   "id": "ff7dcee8",
   "metadata": {},
   "outputs": [
    {
     "name": "stdout",
     "output_type": "stream",
     "text": [
      "89.78132025342326%\n"
     ]
    }
   ],
   "source": [
    "s_sum = 0\n",
    "t_sum = 0\n",
    "for label in range(10):\n",
    "    s_sum += success_counts[str(label)] \n",
    "    t_sum += total_counts[str(label)] \n",
    "print(str(s_sum/t_sum*100) + \"%\")"
   ]
  },
  {
   "cell_type": "code",
   "execution_count": null,
   "id": "12b2b6e5",
   "metadata": {},
   "outputs": [],
   "source": []
  }
 ],
 "metadata": {
  "kernelspec": {
   "display_name": "Python 3 (ipykernel)",
   "language": "python",
   "name": "python3"
  },
  "language_info": {
   "codemirror_mode": {
    "name": "ipython",
    "version": 3
   },
   "file_extension": ".py",
   "mimetype": "text/x-python",
   "name": "python",
   "nbconvert_exporter": "python",
   "pygments_lexer": "ipython3",
   "version": "3.11.4"
  }
 },
 "nbformat": 4,
 "nbformat_minor": 5
}
