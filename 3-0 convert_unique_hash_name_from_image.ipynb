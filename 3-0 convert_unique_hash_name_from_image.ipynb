{
 "cells": [
  {
   "cell_type": "code",
   "execution_count": 1,
   "id": "8cd2f645",
   "metadata": {},
   "outputs": [],
   "source": [
    "from PIL import Image\n",
    "import numpy as np\n",
    "\n",
    "def generate_primes(n):\n",
    "    \"\"\"n개의 소수를 생성하는 함수\"\"\"\n",
    "    primes = []\n",
    "    num = 2\n",
    "    while len(primes) < n:\n",
    "        if all(num % i != 0 for i in range(2, int(np.sqrt(num)) + 1)):\n",
    "            primes.append(num)\n",
    "        num += 1\n",
    "    return primes\n",
    "\n",
    "def calculate_unique_value(image_path):\n",
    "    \"\"\"BMP 이미지로부터 고유한 정수값을 계산하는 함수\"\"\"\n",
    "    # 이미지 불러오기\n",
    "    image = Image.open(image_path)\n",
    "    image = image.convert('L')  # 회색조 이미지로 변환\n",
    "    pixels = np.array(image)\n",
    "\n",
    "    # 소수 생성\n",
    "    primes = generate_primes(28 * 28)\n",
    "\n",
    "    # 계산\n",
    "    unique_value = 0\n",
    "    for i in range(28):\n",
    "        for j in range(28):\n",
    "            # 픽셀 위치에 따른 소수 할당\n",
    "            prime = primes[i * 28 + j]\n",
    "            # 픽셀값에 1을 더한 후 소수와 곱함\n",
    "            unique_value += (pixels[i, j] + 1) * prime\n",
    "\n",
    "    return unique_value"
   ]
  },
  {
   "cell_type": "code",
   "execution_count": 2,
   "id": "4f54fda6",
   "metadata": {},
   "outputs": [],
   "source": [
    "import os\n",
    "import shutil\n",
    "\n",
    "def process_images(source_dir, dest_dir):\n",
    "    if not os.path.exists(dest_dir):\n",
    "        os.makedirs(dest_dir)\n",
    "\n",
    "    processed_files = []\n",
    "    duplicate_values = set()\n",
    "\n",
    "    for filename in os.listdir(source_dir):\n",
    "#         if filename.lower().endswith('.btm'):  # BTM 이미지만 처리\n",
    "        source_path = os.path.join(source_dir, filename)\n",
    "        unique_value = calculate_unique_value(source_path)\n",
    "        print(filename + \":\" + str(unique_value))\n",
    "        new_filename = f\"{unique_value}.bmp\"\n",
    "        dest_path = os.path.join(dest_dir, new_filename)\n",
    "\n",
    "        # 중복 검사\n",
    "        if unique_value in processed_files:\n",
    "            print(f\"경고: 중복된 값 발견 - {unique_value}\")\n",
    "            duplicate_values.add(unique_value)\n",
    "        else:\n",
    "            processed_files.append(unique_value)\n",
    "            shutil.copy(source_path, dest_path)\n",
    "\n",
    "    return processed_files, duplicate_values\n"
   ]
  },
  {
   "cell_type": "code",
   "execution_count": 3,
   "id": "99fe00ad",
   "metadata": {},
   "outputs": [],
   "source": [
    "# source_dir = 'C:/Users/koo/my_workspace/privacy_term_project/mnist_btm/testing'\n",
    "# dest_dir =   'C:/Users/koo/my_workspace/privacy_term_project/mnist_btm_hash/testing'\n",
    "# source_dir = 'C:/Users/koo/my_workspace/privacy_term_project/mnist_btm/training'\n",
    "# dest_dir =   'C:/Users/koo/my_workspace/privacy_term_project/mnist_btm_hash/training'\n",
    "\n",
    "# for i in range(0, 10):\n",
    "#     processed_files, duplicates = process_images(source_dir + '/' +str(i) , dest_dir + '/' +str(i) )\n",
    "#     print(\"처리된 파일들:\", processed_files)\n",
    "#     if duplicates:\n",
    "#         print(\"중복된 값들:\", duplicates)\n",
    "\n"
   ]
  },
  {
   "cell_type": "code",
   "execution_count": 4,
   "id": "ddd8c9c5",
   "metadata": {},
   "outputs": [
    {
     "name": "stdout",
     "output_type": "stream",
     "text": [
      "69997\n"
     ]
    }
   ],
   "source": [
    "import os\n",
    "\n",
    "file_list = []\n",
    "def list_in_mnist_btm_hash(base_dir):\n",
    "    sub_dirs = ['testing', 'training']\n",
    "    for sub_dir in sub_dirs:\n",
    "        path = os.path.join(base_dir, sub_dir)\n",
    "        for i in range(10):\n",
    "            folder_path = os.path.join(path, str(i))\n",
    "            if os.path.exists(folder_path):\n",
    "                file_list.extend(os.listdir(folder_path))\n",
    "\n",
    "    #print(f\"총 파일 개수: {len(file_list)}\")\n",
    "\n",
    "\n",
    "base_dir = 'mnist_btm_hash'  # 'mnist_btm_hash' 폴더의 경로\n",
    "list_in_mnist_btm_hash(base_dir)\n",
    "print(len(file_list))"
   ]
  },
  {
   "cell_type": "code",
   "execution_count": 5,
   "id": "e2d9d1fe",
   "metadata": {},
   "outputs": [],
   "source": [
    "# \"119551584.btm\" in file_list"
   ]
  },
  {
   "cell_type": "code",
   "execution_count": 6,
   "id": "ce8ddec1",
   "metadata": {},
   "outputs": [
    {
     "name": "stdout",
     "output_type": "stream",
     "text": [
      "78809\n"
     ]
    }
   ],
   "source": [
    "base_dir = 'random_pertubation_image_by_adv'  # 'mnist_btm_hash' 폴더의 경로\n",
    "path = base_dir\n",
    "for i in range(10):\n",
    "    folder_path = os.path.join(path, str(i))\n",
    "    if os.path.exists(folder_path):\n",
    "        file_list.extend(os.listdir(folder_path))\n",
    "\n",
    "list_in_mnist_btm_hash(base_dir)\n",
    "print(len(file_list))"
   ]
  },
  {
   "cell_type": "code",
   "execution_count": null,
   "id": "e9d59b50",
   "metadata": {},
   "outputs": [],
   "source": []
  }
 ],
 "metadata": {
  "kernelspec": {
   "display_name": "Python 3 (ipykernel)",
   "language": "python",
   "name": "python3"
  },
  "language_info": {
   "codemirror_mode": {
    "name": "ipython",
    "version": 3
   },
   "file_extension": ".py",
   "mimetype": "text/x-python",
   "name": "python",
   "nbconvert_exporter": "python",
   "pygments_lexer": "ipython3",
   "version": "3.11.4"
  }
 },
 "nbformat": 4,
 "nbformat_minor": 5
}
