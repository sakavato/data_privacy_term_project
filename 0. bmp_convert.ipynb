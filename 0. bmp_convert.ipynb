{
 "cells": [
  {
   "cell_type": "code",
   "execution_count": 7,
   "id": "ebc63a39",
   "metadata": {},
   "outputs": [],
   "source": [
    "import os\n",
    "from PIL import Image\n",
    "\n",
    "def convert_png_to_bmp(source_folder, dest_folder, max_directories=None):\n",
    "    if not os.path.exists(dest_folder):\n",
    "        os.makedirs(dest_folder)\n",
    "\n",
    "    directories = [d for d in os.listdir(source_folder) \n",
    "                   if os.path.isdir(os.path.join(source_folder, d))]\n",
    "\n",
    "    if max_directories:\n",
    "        directories = directories[:max_directories]\n",
    "\n",
    "    for directory in directories:\n",
    "        source_dir_path = os.path.join(source_folder, directory)\n",
    "        dest_dir_path = os.path.join(dest_folder, directory)\n",
    "\n",
    "        if not os.path.exists(dest_dir_path):\n",
    "            os.makedirs(dest_dir_path)\n",
    "\n",
    "        for filename in os.listdir(source_dir_path):\n",
    "            if filename.endswith('.png'):\n",
    "                file_path = os.path.join(source_dir_path, filename)\n",
    "                with Image.open(file_path) as img:\n",
    "                    bmp_filename = filename.replace('.png', '.bmp')\n",
    "                    bmp_path = os.path.join(dest_dir_path, bmp_filename)\n",
    "                    img.save(bmp_path)\n",
    "\n",
    "# source_folder = 'C:/Users/koo/my_workspace/privacy_term_project/mnist_png/testing' \n",
    "# dest_folder = 'C:/Users/koo/my_workspace/privacy_term_project/mnist_btm/testing'  \n",
    "source_folder = 'C:/Users/koo/my_workspace/privacy_term_project/mnist_png/training' \n",
    "dest_folder = 'C:/Users/koo/my_workspace/privacy_term_project/mnist_btm/training'  \n",
    "n_directories = 10  \n",
    "\n",
    "convert_png_to_bmp(source_folder, dest_folder, n_directories)"
   ]
  },
  {
   "cell_type": "code",
   "execution_count": null,
   "id": "fbdcc678",
   "metadata": {},
   "outputs": [],
   "source": []
  }
 ],
 "metadata": {
  "kernelspec": {
   "display_name": "Python 3 (ipykernel)",
   "language": "python",
   "name": "python3"
  },
  "language_info": {
   "codemirror_mode": {
    "name": "ipython",
    "version": 3
   },
   "file_extension": ".py",
   "mimetype": "text/x-python",
   "name": "python",
   "nbconvert_exporter": "python",
   "pygments_lexer": "ipython3",
   "version": "3.11.4"
  }
 },
 "nbformat": 4,
 "nbformat_minor": 5
}
