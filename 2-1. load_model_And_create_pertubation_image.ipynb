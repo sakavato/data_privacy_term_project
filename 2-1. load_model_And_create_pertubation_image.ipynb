{
 "cells": [
  {
   "cell_type": "code",
   "execution_count": 1,
   "id": "04f684e2",
   "metadata": {},
   "outputs": [],
   "source": [
    "import torch\n",
    "import torchvision.transforms as transforms\n",
    "from torchvision.datasets import ImageFolder\n",
    "from torch.utils.data import DataLoader\n",
    "import numpy as np\n",
    "import os\n",
    "from PIL import Image\n",
    "import torch.nn as nn\n",
    "\n",
    "# CNN 모델 정의\n",
    "class SimpleCNN(nn.Module):\n",
    "    def __init__(self):\n",
    "        super(SimpleCNN, self).__init__()\n",
    "        self.conv1 = nn.Conv2d(1, 10, kernel_size=5)\n",
    "        self.conv2 = nn.Conv2d(10, 20, kernel_size=5)\n",
    "        self.fc1 = nn.Linear(320, 50)\n",
    "        self.fc2 = nn.Linear(50, 10)\n",
    "\n",
    "    def forward(self, x):\n",
    "        x = nn.functional.relu(nn.functional.max_pool2d(self.conv1(x), 2))\n",
    "        x = nn.functional.relu(nn.functional.max_pool2d(self.conv2(x), 2))\n",
    "        x = x.view(-1, 320)\n",
    "        x = nn.functional.relu(self.fc1(x))\n",
    "        x = self.fc2(x)\n",
    "        return x  # nn.functional.log_softmax 사용 제거\n"
   ]
  },
  {
   "cell_type": "code",
   "execution_count": 2,
   "id": "5a5f0b81",
   "metadata": {},
   "outputs": [
    {
     "data": {
      "text/plain": [
       "SimpleCNN(\n",
       "  (conv1): Conv2d(1, 10, kernel_size=(5, 5), stride=(1, 1))\n",
       "  (conv2): Conv2d(10, 20, kernel_size=(5, 5), stride=(1, 1))\n",
       "  (fc1): Linear(in_features=320, out_features=50, bias=True)\n",
       "  (fc2): Linear(in_features=50, out_features=10, bias=True)\n",
       ")"
      ]
     },
     "execution_count": 2,
     "metadata": {},
     "output_type": "execute_result"
    }
   ],
   "source": [
    "\n",
    "# 모델 불러오기\n",
    "model = SimpleCNN()\n",
    "model.load_state_dict(torch.load('C:/Users/koo/my_workspace/privacy_term_project/mnist_cnn.pth'))\n",
    "model.eval()\n",
    "model.cuda()  # GPU 사용 시\n"
   ]
  },
  {
   "cell_type": "code",
   "execution_count": 3,
   "id": "08f78721",
   "metadata": {},
   "outputs": [],
   "source": [
    "\n",
    "# 노이즈 마스크 생성 함수\n",
    "def add_noise_to_image(image, num_pixels, intensity=0.5):\n",
    "    image = image.clone()\n",
    "    for _ in range(num_pixels):\n",
    "        x, y = np.random.randint(0, image.size(1)), np.random.randint(0, image.size(2))\n",
    "        noise = torch.randn(image.size(0)) * intensity\n",
    "        image[:, x, y] += noise\n",
    "    return torch.clamp(image, 0, 1)\n"
   ]
  },
  {
   "cell_type": "code",
   "execution_count": 4,
   "id": "8bef77f8",
   "metadata": {},
   "outputs": [],
   "source": [
    "\n",
    "# 데이터 로딩 및 폴더 생성\n",
    "test_dir = 'C:/Users/koo/my_workspace/privacy_term_project/mnist_btm/testing'\n",
    "output_dir = 'C:/Users/koo/my_workspace/privacy_term_project/random_pertubation_image'\n",
    "\n",
    "transform = transforms.Compose([\n",
    "    transforms.Grayscale(num_output_channels=1),\n",
    "    transforms.ToTensor(),\n",
    "    transforms.Normalize((0.5,), (0.5,))\n",
    "])\n",
    "test_dataset = ImageFolder(root=test_dir, transform=transform)\n",
    "test_loader = DataLoader(test_dataset, batch_size=1, shuffle=True)\n"
   ]
  },
  {
   "cell_type": "code",
   "execution_count": 5,
   "id": "b9a14081",
   "metadata": {},
   "outputs": [],
   "source": [
    "\n",
    "if not os.path.exists(output_dir):\n",
    "    os.makedirs(output_dir)\n",
    "    for i in range(10):\n",
    "        os.makedirs(os.path.join(output_dir, str(i)))\n"
   ]
  },
  {
   "cell_type": "code",
   "execution_count": 6,
   "id": "37268816",
   "metadata": {},
   "outputs": [],
   "source": [
    "\n",
    "# 이미지 생성 및 모델 테스트\n",
    "success_counts = {str(i): 0 for i in range(10)}\n",
    "total_counts = {str(i): 0 for i in range(10)}\n"
   ]
  },
  {
   "cell_type": "code",
   "execution_count": 7,
   "id": "97ecb04e",
   "metadata": {},
   "outputs": [],
   "source": [
    "\n",
    "# 노이즈 추가 및 모델 예측 부분\n",
    "\n",
    "for label in range(10):\n",
    "    label_dir = f'{output_dir}/{label}'\n",
    "    if not os.path.exists(label_dir):\n",
    "        os.makedirs(label_dir)\n",
    "        \n",
    "    for i, (data, target) in enumerate(test_loader):\n",
    "        if target.item() != label or total_counts[str(label)] >= 1000:\n",
    "            continue\n",
    "\n",
    "        noisy_image = add_noise_to_image(data[0], num_pixels=5, intensity=0.5)\n",
    "        noisy_image = noisy_image.unsqueeze(0).cuda()\n",
    "        prediction = model(noisy_image)\n",
    "        predicted_label = torch.max(prediction, 1)[1].item()\n",
    "\n",
    "        if predicted_label != target.item():\n",
    "            success_counts[str(label)] += 1\n",
    "            noisy_img = transforms.ToPILImage()(noisy_image.squeeze(0).cpu())  # 배치 차원 제거 및 CPU로 이동\n",
    "            noisy_img.save(f'{output_dir}/{label}/{label}_noisy_{total_counts[str(label)]}.bmp')\n",
    "\n",
    "        total_counts[str(label)] += 1\n"
   ]
  },
  {
   "cell_type": "code",
   "execution_count": 15,
   "id": "1315ca87",
   "metadata": {
    "scrolled": true
   },
   "outputs": [
    {
     "name": "stdout",
     "output_type": "stream",
     "text": [
      "Label 0: Success Rate = 1.9%\n",
      "Label 1: Success Rate = 2.9000000000000004%\n",
      "Label 2: Success Rate = 6.5%\n",
      "Label 3: Success Rate = 1.6%\n",
      "Label 4: Success Rate = 1.9%\n",
      "Label 5: Success Rate = 11.700000000000001%\n",
      "Label 6: Success Rate = 8.799999999999999%\n",
      "Label 7: Success Rate = 4.1000000000000005%\n",
      "Label 8: Success Rate = 0.4%\n",
      "Label 9: Success Rate = 3.9%\n"
     ]
    }
   ],
   "source": [
    "# 성공률 출력\n",
    "for label in range(10):\n",
    "    success_rate = success_counts[str(label)] / 1000 * 100\n",
    "    print(f'Label {label}: Success Rate = {success_rate}%')\n",
    "#     print(\"  success_counts:\" + str(success_counts[str(label)]))\n",
    "#     print(\"  total_counts:\" + str(total_counts[str(label)]))\n",
    "    \n",
    "# Label 0: Success Rate = 1.9%\n",
    "# Label 1: Success Rate = 2.9000000000000004%\n",
    "# Label 2: Success Rate = 6.5%\n",
    "# Label 3: Success Rate = 1.6%\n",
    "# Label 4: Success Rate = 1.9%\n",
    "# Label 5: Success Rate = 11.700000000000001%\n",
    "# Label 6: Success Rate = 8.799999999999999%\n",
    "# Label 7: Success Rate = 4.1000000000000005%\n",
    "# Label 8: Success Rate = 0.4%\n",
    "# Label 9: Success Rate = 3.9%"
   ]
  },
  {
   "cell_type": "code",
   "execution_count": 14,
   "id": "89940ed9",
   "metadata": {},
   "outputs": [
    {
     "name": "stdout",
     "output_type": "stream",
     "text": [
      "4.465563049254037%\n"
     ]
    }
   ],
   "source": [
    "s_sum = 0\n",
    "t_sum = 0\n",
    "for label in range(10):\n",
    "    s_sum += success_counts[str(label)] \n",
    "    t_sum += total_counts[str(label)] \n",
    "print(str(s_sum/t_sum*100) + \"%\")\n",
    "#4.37 %"
   ]
  },
  {
   "cell_type": "code",
   "execution_count": null,
   "id": "8be9bac0",
   "metadata": {},
   "outputs": [],
   "source": []
  }
 ],
 "metadata": {
  "kernelspec": {
   "display_name": "Python 3 (ipykernel)",
   "language": "python",
   "name": "python3"
  },
  "language_info": {
   "codemirror_mode": {
    "name": "ipython",
    "version": 3
   },
   "file_extension": ".py",
   "mimetype": "text/x-python",
   "name": "python",
   "nbconvert_exporter": "python",
   "pygments_lexer": "ipython3",
   "version": "3.11.4"
  }
 },
 "nbformat": 4,
 "nbformat_minor": 5
}
